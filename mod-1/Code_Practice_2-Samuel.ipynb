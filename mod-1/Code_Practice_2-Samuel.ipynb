{
 "cells": [
  {
   "cell_type": "markdown",
   "metadata": {},
   "source": [
    "[CODING PROBLEMS](https://link.springer.com/content/pdf/10.1007%2F978-3-319-14240-1.pdf)"
   ]
  },
  {
   "cell_type": "markdown",
   "metadata": {},
   "source": [
    "__Problem 1__"
   ]
  },
  {
   "cell_type": "markdown",
   "metadata": {},
   "source": [
    "In this exercise you will write a function named isInteger that determines whether or not the characters in a string represent a valid integer. \n",
    "- When determining if a string represents an integer you should ignore any leading or trailing white space.\n",
    " - strip()\n",
    "- Once this white space is ignored, a string represents an integer if its length is at least: \n",
    "    - 1 and it only contains digits\n",
    "    - or if its first character is either + or - and the first character is followed by one or more characters, all of which are digits.\n",
    "\n",
    "Write a main program that reads a string from the user and reports whether or not it represents an integer. Ensure that the main program will not run if the file containing your solution is imported into another program.\n",
    "\n",
    "Hint: You may find the `lstrip`, `rstrip` and/or `strip`, `isdigit` methods for strings helpful when completing this exercise. Documentation for these methods is available online. "
   ]
  },
  {
   "cell_type": "code",
   "execution_count": 38,
   "metadata": {},
   "outputs": [
    {
     "data": {
      "text/plain": [
       "False"
      ]
     },
     "execution_count": 38,
     "metadata": {},
     "output_type": "execute_result"
    }
   ],
   "source": [
    "from collections import defaultdict\n",
    "def main_program(s_string): \n",
    "    string_strip = s_string.strip()\n",
    "    if string_strip[0] in ['+', '-']:\n",
    "        string_dic = defaultdict(int)\n",
    "        for pos, i in enumerate(string_strip):\n",
    "            if pos == 0: \n",
    "                continue \n",
    "            else: \n",
    "                string_dic[i] += 1\n",
    "        for pos, key in enumerate(string_dic.keys()): \n",
    "            if key.isdigit() and pos == len(string_dic.keys()) -1:\n",
    "                return True\n",
    "            elif key.isdigit() == False:\n",
    "                return False\n",
    "            \n",
    "main_program('+=123')  "
   ]
  },
  {
   "cell_type": "markdown",
   "metadata": {},
   "source": [
    "__Problem - 2__"
   ]
  },
  {
   "cell_type": "markdown",
   "metadata": {},
   "source": [
    "A prime number is an integer greater than 1 that is only divisible by one and itself. Write a function that determines whether or not its parameter is prime, returning True if it is, and False otherwise. Write a main program that reads an integer from the user and displays a message indicating whether or not it is prime. Ensure that the main program will not run if the file containing your solution is imported into another program."
   ]
  },
  {
   "cell_type": "code",
   "execution_count": 16,
   "metadata": {},
   "outputs": [
    {
     "data": {
      "text/plain": [
       "True"
      ]
     },
     "execution_count": 16,
     "metadata": {},
     "output_type": "execute_result"
    }
   ],
   "source": [
    "def prime_or_not(num):\n",
    "    if num % 2 == 0:\n",
    "        return False\n",
    "    else: \n",
    "        return True \n",
    "\n",
    "prime_or_not(5)"
   ]
  },
  {
   "cell_type": "markdown",
   "metadata": {},
   "source": [
    "__Problem - 3__"
   ]
  },
  {
   "cell_type": "markdown",
   "metadata": {},
   "source": [
    "In this exercise you will write a function that determines whether or not a password is good. We will define a good password to be a one that is at least 8 characters long and contains at least one uppercase letter, at least one lowercase letter, and at least one number. Your function should return true if the password passed to it as its only parameter is good. Otherwise it should return false. Include a main program that reads a password from the user and reports whether or not it is good. Ensure that your main program only runs when your solution has not been imported into another file."
   ]
  },
  {
   "cell_type": "code",
   "execution_count": 14,
   "metadata": {},
   "outputs": [
    {
     "data": {
      "text/plain": [
       "True"
      ]
     },
     "execution_count": 14,
     "metadata": {},
     "output_type": "execute_result"
    }
   ],
   "source": [
    "def password(p_word):\n",
    "    p_word = p_word.strip()\n",
    "    if len(p_word) <8: \n",
    "        return False \n",
    "    p_list = p_word.split()\n",
    "    non_char = 0 \n",
    "    num = 0\n",
    "    lower = 0\n",
    "    upper = 0\n",
    "    for i in p_word: \n",
    "        if i.isalpha() and i.isupper():\n",
    "            upper += 1\n",
    "            continue \n",
    "        elif i.isalpha() and i.isupper() == False:\n",
    "            lower+= 1\n",
    "            continue \n",
    "        elif i.isdigit(): \n",
    "            num+= 1\n",
    "            continue\n",
    "        else:\n",
    "            non_char+=1\n",
    "    if num >= 1 and lower >=1 and upper >= 1:\n",
    "        return True\n",
    "    else:\n",
    "        return False\n",
    "            \n",
    "        \n",
    "\n",
    "password('Hello00000')"
   ]
  },
  {
   "cell_type": "code",
   "execution_count": null,
   "metadata": {},
   "outputs": [],
   "source": []
  },
  {
   "cell_type": "markdown",
   "metadata": {},
   "source": [
    "__Problem - 4__"
   ]
  },
  {
   "cell_type": "markdown",
   "metadata": {},
   "source": [
    "The greatest common divisor of two positive integers, 𝑛 and 𝑚, is the largest number, 𝑑, which divides evenly into both 𝑛 and 𝑚. There are several algorithms that can be used to solve this problem, including:\n",
    "\n",
    "    > Initialize d to the smaller of m and n\n",
    "    > While d does not evenly divide m or d does not evenly divide n do\n",
    "        > decrease the value of d by 1\n",
    "    > Report d as the greatest common divisor of n and m \n",
    "    \n",
    "Write a program that reads two positive integers from the user and uses this algorithm to determine and report their greatest common divisor."
   ]
  },
  {
   "cell_type": "code",
   "execution_count": 20,
   "metadata": {},
   "outputs": [
    {
     "data": {
      "text/plain": [
       "50"
      ]
     },
     "execution_count": 20,
     "metadata": {},
     "output_type": "execute_result"
    }
   ],
   "source": [
    "def pos_integers(int1, int2): \n",
    "    if int1>int2:\n",
    "        biggest = int1\n",
    "    elif int1 == int2: \n",
    "        return int1\n",
    "    else:\n",
    "        biggest = int2\n",
    "    pos = [i for i in range(int2)]\n",
    "    for num in pos[::-1]: \n",
    "        if int1 % num == 0 and int2 % num == 0: \n",
    "            return num\n",
    "        \n",
    "    \n",
    "    \n",
    "        \n",
    "\n",
    "pos_integers(150,200)"
   ]
  },
  {
   "cell_type": "markdown",
   "metadata": {},
   "source": [
    "__Problem - 5__"
   ]
  },
  {
   "cell_type": "markdown",
   "metadata": {},
   "source": [
    "Write a function that takes two positive integers that represent the numerator and denominator of a fraction as its only two parameters. The body of the function should reduce the fraction to lowest terms and then return both the numerator and denominator of the reduced fraction as its result. For example, if the parameters passed to the function are 6 and 63 then the function should return 2 and 21. Include a main program that allows the user to enter a numerator and denominator. Then your program should display the reduced fraction.\n",
    "\n",
    "Hint: In problem-4 you wrote a program for computing the greatest common divisor of two positive integers. You may find that code useful when completing this exercise. \n"
   ]
  },
  {
   "cell_type": "code",
   "execution_count": 24,
   "metadata": {},
   "outputs": [
    {
     "data": {
      "text/plain": [
       "(1.0, 2.0)"
      ]
     },
     "execution_count": 24,
     "metadata": {},
     "output_type": "execute_result"
    }
   ],
   "source": [
    "def fraction(num1, num2):\n",
    "    lowest_common = pos_integers(num1, num2)\n",
    "    numer = num1 / lowest_common \n",
    "    denom = num2 / lowest_common\n",
    "    return numer,denom\n",
    "\n",
    "fraction(10,20)"
   ]
  },
  {
   "cell_type": "markdown",
   "metadata": {},
   "source": [
    "__Problem - 6__"
   ]
  },
  {
   "cell_type": "markdown",
   "metadata": {},
   "source": [
    "A string is a palindrome if it is identical forward and backward. For example “anna”, “civic”, “level” and “hannah” are all examples of palindromic words. Write a program that reads a string from the user and uses a loop to determines whether or not it is a palindrome. Display the result, including a meaningful output message."
   ]
  },
  {
   "cell_type": "code",
   "execution_count": 26,
   "metadata": {},
   "outputs": [
    {
     "data": {
      "text/plain": [
       "'Anna is a Palindrome!'"
      ]
     },
     "execution_count": 26,
     "metadata": {},
     "output_type": "execute_result"
    }
   ],
   "source": [
    "def palindrome(s_word): \n",
    "    s_word = s_word.lower() \n",
    "    if s_word == s_word[::-1]:\n",
    "        return f'{s_word.capitalize()} is a Palindrome!' \n",
    "    else:\n",
    "        return f'{s_word.capitalize()} is not a Palindrome!' \n",
    "\n",
    "\n",
    "    \n",
    "palindrome('anna')"
   ]
  },
  {
   "cell_type": "markdown",
   "metadata": {},
   "source": [
    "__Problem - 7__"
   ]
  },
  {
   "cell_type": "markdown",
   "metadata": {},
   "source": [
    "In a particular jurisdiction, taxi fares consist of a base fare of $4.00, plus $0.25 for every 140 meters traveled. Write a function that takes the distance traveled (in kilometers) as its only parameter and returns the total fare as its only result. Write a main program that demonstrates the function.\n",
    "\n",
    "Hint: Taxi fares change over time. Use constants to represent the base fare and the variable portion of the fare so that the program can be updated easily when the rates increase. "
   ]
  },
  {
   "cell_type": "code",
   "execution_count": 34,
   "metadata": {},
   "outputs": [
    {
     "data": {
      "text/plain": [
       "4.27"
      ]
     },
     "execution_count": 34,
     "metadata": {},
     "output_type": "execute_result"
    }
   ],
   "source": [
    "def distance_fare(distance): \n",
    "    meters = (distance * 1000) //140\n",
    "    left = (distance * 1000) % 140 \n",
    "    base_fare = 4\n",
    "    if left == 0: \n",
    "        return round(4 + (.25 * meters),2)\n",
    "    else: \n",
    "        rate = (left * .25)/140\n",
    "        total = rate + (4+(.25*meters))\n",
    "        return round(total,2)\n",
    "\n",
    "\n",
    "distance_fare(.15)\n",
    "    "
   ]
  },
  {
   "cell_type": "markdown",
   "metadata": {},
   "source": [
    "__Problem - 8__"
   ]
  },
  {
   "cell_type": "markdown",
   "metadata": {},
   "source": [
    "Write a function that takes three numbers as parameters, and returns the median value of those parameters as its result. Include a main program that reads three values from the user and displays their median.\n",
    "\n",
    "Hint: The median value is the middle of the three values when they are sorted into ascending order. It can be found using if statements, or with a little bit of mathematical creativity. "
   ]
  },
  {
   "cell_type": "code",
   "execution_count": 37,
   "metadata": {},
   "outputs": [
    {
     "data": {
      "text/plain": [
       "5"
      ]
     },
     "execution_count": 37,
     "metadata": {},
     "output_type": "execute_result"
    }
   ],
   "source": [
    "def median_getter(num1, num2, num3): \n",
    "    num_list = sorted([num1,num2,num3])\n",
    "    return num_list[1]\n",
    "\n",
    "median_getter(1,10,5)"
   ]
  },
  {
   "cell_type": "code",
   "execution_count": null,
   "metadata": {},
   "outputs": [],
   "source": []
  }
 ],
 "metadata": {
  "kernelspec": {
   "display_name": "Python 3",
   "language": "python",
   "name": "python3"
  },
  "language_info": {
   "codemirror_mode": {
    "name": "ipython",
    "version": 3
   },
   "file_extension": ".py",
   "mimetype": "text/x-python",
   "name": "python",
   "nbconvert_exporter": "python",
   "pygments_lexer": "ipython3",
   "version": "3.7.6"
  },
  "toc": {
   "base_numbering": 1,
   "nav_menu": {},
   "number_sections": true,
   "sideBar": true,
   "skip_h1_title": false,
   "title_cell": "Table of Contents",
   "title_sidebar": "Contents",
   "toc_cell": false,
   "toc_position": {},
   "toc_section_display": true,
   "toc_window_display": false
  }
 },
 "nbformat": 4,
 "nbformat_minor": 4
}

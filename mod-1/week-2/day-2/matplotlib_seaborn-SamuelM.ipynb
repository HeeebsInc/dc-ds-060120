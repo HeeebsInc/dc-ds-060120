{
 "cells": [
  {
   "cell_type": "markdown",
   "metadata": {},
   "source": [
    "![matplotlib](https://matplotlib.org/_static/logo2.png)\n",
    "\n",
    "# Data Visualization with Matplotlib\n",
    "\n",
    "\n",
    "## Why is visualization important?\n",
    "\n",
    "\n",
    "There are a lot of visualizations out there these days.\n",
    "\n",
    "Ultimately they are about quickly revealing relationships and anomolies.\n",
    "\n",
    "While we will review what makes a **GOOD** visualization later, we will cover a few basic types today.\n",
    "\n",
    "Let's look at some [examples from python graphs](https://python-graph-gallery.com/)\n"
   ]
  },
  {
   "cell_type": "code",
   "execution_count": 1,
   "metadata": {},
   "outputs": [],
   "source": [
    "import matplotlib.pyplot as plt\n",
    "import numpy as np"
   ]
  },
  {
   "cell_type": "markdown",
   "metadata": {},
   "source": [
    "### Matplotlib - 101\n",
    "\n",
    "- First release is in 2003\n",
    "\n",
    "- Compatible with different operating systems and graphic backends: [Backends?](https://askubuntu.com/questions/417160/what-is-a-backend-in-computer-graphics)\n",
    "\n",
    "- Everything to everyone approach\n",
    "\n",
    "- Didn't age well :)"
   ]
  },
  {
   "cell_type": "code",
   "execution_count": 2,
   "metadata": {},
   "outputs": [],
   "source": [
    "%matplotlib inline\n",
    "\n",
    "## you might see TkAgg, nbAgg for example"
   ]
  },
  {
   "cell_type": "markdown",
   "metadata": {},
   "source": [
    "### Setting Styles"
   ]
  },
  {
   "cell_type": "code",
   "execution_count": 3,
   "metadata": {},
   "outputs": [
    {
     "data": {
      "text/plain": [
       "['seaborn-dark',\n",
       " 'seaborn-darkgrid',\n",
       " 'seaborn-ticks',\n",
       " 'fivethirtyeight',\n",
       " 'seaborn-whitegrid']"
      ]
     },
     "execution_count": 3,
     "metadata": {},
     "output_type": "execute_result"
    }
   ],
   "source": [
    "plt.style.available[:5]"
   ]
  },
  {
   "cell_type": "code",
   "execution_count": 4,
   "metadata": {},
   "outputs": [],
   "source": [
    "## for no reason :)\n",
    "plt.style.use('seaborn-whitegrid')"
   ]
  },
  {
   "cell_type": "code",
   "execution_count": 5,
   "metadata": {},
   "outputs": [],
   "source": [
    "%matplotlib notebook"
   ]
  },
  {
   "cell_type": "code",
   "execution_count": 6,
   "metadata": {},
   "outputs": [
    {
     "data": {
      "application/javascript": [
       "/* Put everything inside the global mpl namespace */\n",
       "window.mpl = {};\n",
       "\n",
       "\n",
       "mpl.get_websocket_type = function() {\n",
       "    if (typeof(WebSocket) !== 'undefined') {\n",
       "        return WebSocket;\n",
       "    } else if (typeof(MozWebSocket) !== 'undefined') {\n",
       "        return MozWebSocket;\n",
       "    } else {\n",
       "        alert('Your browser does not have WebSocket support. ' +\n",
       "              'Please try Chrome, Safari or Firefox ≥ 6. ' +\n",
       "              'Firefox 4 and 5 are also supported but you ' +\n",
       "              'have to enable WebSockets in about:config.');\n",
       "    };\n",
       "}\n",
       "\n",
       "mpl.figure = function(figure_id, websocket, ondownload, parent_element) {\n",
       "    this.id = figure_id;\n",
       "\n",
       "    this.ws = websocket;\n",
       "\n",
       "    this.supports_binary = (this.ws.binaryType != undefined);\n",
       "\n",
       "    if (!this.supports_binary) {\n",
       "        var warnings = document.getElementById(\"mpl-warnings\");\n",
       "        if (warnings) {\n",
       "            warnings.style.display = 'block';\n",
       "            warnings.textContent = (\n",
       "                \"This browser does not support binary websocket messages. \" +\n",
       "                    \"Performance may be slow.\");\n",
       "        }\n",
       "    }\n",
       "\n",
       "    this.imageObj = new Image();\n",
       "\n",
       "    this.context = undefined;\n",
       "    this.message = undefined;\n",
       "    this.canvas = undefined;\n",
       "    this.rubberband_canvas = undefined;\n",
       "    this.rubberband_context = undefined;\n",
       "    this.format_dropdown = undefined;\n",
       "\n",
       "    this.image_mode = 'full';\n",
       "\n",
       "    this.root = $('<div/>');\n",
       "    this._root_extra_style(this.root)\n",
       "    this.root.attr('style', 'display: inline-block');\n",
       "\n",
       "    $(parent_element).append(this.root);\n",
       "\n",
       "    this._init_header(this);\n",
       "    this._init_canvas(this);\n",
       "    this._init_toolbar(this);\n",
       "\n",
       "    var fig = this;\n",
       "\n",
       "    this.waiting = false;\n",
       "\n",
       "    this.ws.onopen =  function () {\n",
       "            fig.send_message(\"supports_binary\", {value: fig.supports_binary});\n",
       "            fig.send_message(\"send_image_mode\", {});\n",
       "            if (mpl.ratio != 1) {\n",
       "                fig.send_message(\"set_dpi_ratio\", {'dpi_ratio': mpl.ratio});\n",
       "            }\n",
       "            fig.send_message(\"refresh\", {});\n",
       "        }\n",
       "\n",
       "    this.imageObj.onload = function() {\n",
       "            if (fig.image_mode == 'full') {\n",
       "                // Full images could contain transparency (where diff images\n",
       "                // almost always do), so we need to clear the canvas so that\n",
       "                // there is no ghosting.\n",
       "                fig.context.clearRect(0, 0, fig.canvas.width, fig.canvas.height);\n",
       "            }\n",
       "            fig.context.drawImage(fig.imageObj, 0, 0);\n",
       "        };\n",
       "\n",
       "    this.imageObj.onunload = function() {\n",
       "        fig.ws.close();\n",
       "    }\n",
       "\n",
       "    this.ws.onmessage = this._make_on_message_function(this);\n",
       "\n",
       "    this.ondownload = ondownload;\n",
       "}\n",
       "\n",
       "mpl.figure.prototype._init_header = function() {\n",
       "    var titlebar = $(\n",
       "        '<div class=\"ui-dialog-titlebar ui-widget-header ui-corner-all ' +\n",
       "        'ui-helper-clearfix\"/>');\n",
       "    var titletext = $(\n",
       "        '<div class=\"ui-dialog-title\" style=\"width: 100%; ' +\n",
       "        'text-align: center; padding: 3px;\"/>');\n",
       "    titlebar.append(titletext)\n",
       "    this.root.append(titlebar);\n",
       "    this.header = titletext[0];\n",
       "}\n",
       "\n",
       "\n",
       "\n",
       "mpl.figure.prototype._canvas_extra_style = function(canvas_div) {\n",
       "\n",
       "}\n",
       "\n",
       "\n",
       "mpl.figure.prototype._root_extra_style = function(canvas_div) {\n",
       "\n",
       "}\n",
       "\n",
       "mpl.figure.prototype._init_canvas = function() {\n",
       "    var fig = this;\n",
       "\n",
       "    var canvas_div = $('<div/>');\n",
       "\n",
       "    canvas_div.attr('style', 'position: relative; clear: both; outline: 0');\n",
       "\n",
       "    function canvas_keyboard_event(event) {\n",
       "        return fig.key_event(event, event['data']);\n",
       "    }\n",
       "\n",
       "    canvas_div.keydown('key_press', canvas_keyboard_event);\n",
       "    canvas_div.keyup('key_release', canvas_keyboard_event);\n",
       "    this.canvas_div = canvas_div\n",
       "    this._canvas_extra_style(canvas_div)\n",
       "    this.root.append(canvas_div);\n",
       "\n",
       "    var canvas = $('<canvas/>');\n",
       "    canvas.addClass('mpl-canvas');\n",
       "    canvas.attr('style', \"left: 0; top: 0; z-index: 0; outline: 0\")\n",
       "\n",
       "    this.canvas = canvas[0];\n",
       "    this.context = canvas[0].getContext(\"2d\");\n",
       "\n",
       "    var backingStore = this.context.backingStorePixelRatio ||\n",
       "\tthis.context.webkitBackingStorePixelRatio ||\n",
       "\tthis.context.mozBackingStorePixelRatio ||\n",
       "\tthis.context.msBackingStorePixelRatio ||\n",
       "\tthis.context.oBackingStorePixelRatio ||\n",
       "\tthis.context.backingStorePixelRatio || 1;\n",
       "\n",
       "    mpl.ratio = (window.devicePixelRatio || 1) / backingStore;\n",
       "\n",
       "    var rubberband = $('<canvas/>');\n",
       "    rubberband.attr('style', \"position: absolute; left: 0; top: 0; z-index: 1;\")\n",
       "\n",
       "    var pass_mouse_events = true;\n",
       "\n",
       "    canvas_div.resizable({\n",
       "        start: function(event, ui) {\n",
       "            pass_mouse_events = false;\n",
       "        },\n",
       "        resize: function(event, ui) {\n",
       "            fig.request_resize(ui.size.width, ui.size.height);\n",
       "        },\n",
       "        stop: function(event, ui) {\n",
       "            pass_mouse_events = true;\n",
       "            fig.request_resize(ui.size.width, ui.size.height);\n",
       "        },\n",
       "    });\n",
       "\n",
       "    function mouse_event_fn(event) {\n",
       "        if (pass_mouse_events)\n",
       "            return fig.mouse_event(event, event['data']);\n",
       "    }\n",
       "\n",
       "    rubberband.mousedown('button_press', mouse_event_fn);\n",
       "    rubberband.mouseup('button_release', mouse_event_fn);\n",
       "    // Throttle sequential mouse events to 1 every 20ms.\n",
       "    rubberband.mousemove('motion_notify', mouse_event_fn);\n",
       "\n",
       "    rubberband.mouseenter('figure_enter', mouse_event_fn);\n",
       "    rubberband.mouseleave('figure_leave', mouse_event_fn);\n",
       "\n",
       "    canvas_div.on(\"wheel\", function (event) {\n",
       "        event = event.originalEvent;\n",
       "        event['data'] = 'scroll'\n",
       "        if (event.deltaY < 0) {\n",
       "            event.step = 1;\n",
       "        } else {\n",
       "            event.step = -1;\n",
       "        }\n",
       "        mouse_event_fn(event);\n",
       "    });\n",
       "\n",
       "    canvas_div.append(canvas);\n",
       "    canvas_div.append(rubberband);\n",
       "\n",
       "    this.rubberband = rubberband;\n",
       "    this.rubberband_canvas = rubberband[0];\n",
       "    this.rubberband_context = rubberband[0].getContext(\"2d\");\n",
       "    this.rubberband_context.strokeStyle = \"#000000\";\n",
       "\n",
       "    this._resize_canvas = function(width, height) {\n",
       "        // Keep the size of the canvas, canvas container, and rubber band\n",
       "        // canvas in synch.\n",
       "        canvas_div.css('width', width)\n",
       "        canvas_div.css('height', height)\n",
       "\n",
       "        canvas.attr('width', width * mpl.ratio);\n",
       "        canvas.attr('height', height * mpl.ratio);\n",
       "        canvas.attr('style', 'width: ' + width + 'px; height: ' + height + 'px;');\n",
       "\n",
       "        rubberband.attr('width', width);\n",
       "        rubberband.attr('height', height);\n",
       "    }\n",
       "\n",
       "    // Set the figure to an initial 600x600px, this will subsequently be updated\n",
       "    // upon first draw.\n",
       "    this._resize_canvas(600, 600);\n",
       "\n",
       "    // Disable right mouse context menu.\n",
       "    $(this.rubberband_canvas).bind(\"contextmenu\",function(e){\n",
       "        return false;\n",
       "    });\n",
       "\n",
       "    function set_focus () {\n",
       "        canvas.focus();\n",
       "        canvas_div.focus();\n",
       "    }\n",
       "\n",
       "    window.setTimeout(set_focus, 100);\n",
       "}\n",
       "\n",
       "mpl.figure.prototype._init_toolbar = function() {\n",
       "    var fig = this;\n",
       "\n",
       "    var nav_element = $('<div/>');\n",
       "    nav_element.attr('style', 'width: 100%');\n",
       "    this.root.append(nav_element);\n",
       "\n",
       "    // Define a callback function for later on.\n",
       "    function toolbar_event(event) {\n",
       "        return fig.toolbar_button_onclick(event['data']);\n",
       "    }\n",
       "    function toolbar_mouse_event(event) {\n",
       "        return fig.toolbar_button_onmouseover(event['data']);\n",
       "    }\n",
       "\n",
       "    for(var toolbar_ind in mpl.toolbar_items) {\n",
       "        var name = mpl.toolbar_items[toolbar_ind][0];\n",
       "        var tooltip = mpl.toolbar_items[toolbar_ind][1];\n",
       "        var image = mpl.toolbar_items[toolbar_ind][2];\n",
       "        var method_name = mpl.toolbar_items[toolbar_ind][3];\n",
       "\n",
       "        if (!name) {\n",
       "            // put a spacer in here.\n",
       "            continue;\n",
       "        }\n",
       "        var button = $('<button/>');\n",
       "        button.addClass('ui-button ui-widget ui-state-default ui-corner-all ' +\n",
       "                        'ui-button-icon-only');\n",
       "        button.attr('role', 'button');\n",
       "        button.attr('aria-disabled', 'false');\n",
       "        button.click(method_name, toolbar_event);\n",
       "        button.mouseover(tooltip, toolbar_mouse_event);\n",
       "\n",
       "        var icon_img = $('<span/>');\n",
       "        icon_img.addClass('ui-button-icon-primary ui-icon');\n",
       "        icon_img.addClass(image);\n",
       "        icon_img.addClass('ui-corner-all');\n",
       "\n",
       "        var tooltip_span = $('<span/>');\n",
       "        tooltip_span.addClass('ui-button-text');\n",
       "        tooltip_span.html(tooltip);\n",
       "\n",
       "        button.append(icon_img);\n",
       "        button.append(tooltip_span);\n",
       "\n",
       "        nav_element.append(button);\n",
       "    }\n",
       "\n",
       "    var fmt_picker_span = $('<span/>');\n",
       "\n",
       "    var fmt_picker = $('<select/>');\n",
       "    fmt_picker.addClass('mpl-toolbar-option ui-widget ui-widget-content');\n",
       "    fmt_picker_span.append(fmt_picker);\n",
       "    nav_element.append(fmt_picker_span);\n",
       "    this.format_dropdown = fmt_picker[0];\n",
       "\n",
       "    for (var ind in mpl.extensions) {\n",
       "        var fmt = mpl.extensions[ind];\n",
       "        var option = $(\n",
       "            '<option/>', {selected: fmt === mpl.default_extension}).html(fmt);\n",
       "        fmt_picker.append(option);\n",
       "    }\n",
       "\n",
       "    // Add hover states to the ui-buttons\n",
       "    $( \".ui-button\" ).hover(\n",
       "        function() { $(this).addClass(\"ui-state-hover\");},\n",
       "        function() { $(this).removeClass(\"ui-state-hover\");}\n",
       "    );\n",
       "\n",
       "    var status_bar = $('<span class=\"mpl-message\"/>');\n",
       "    nav_element.append(status_bar);\n",
       "    this.message = status_bar[0];\n",
       "}\n",
       "\n",
       "mpl.figure.prototype.request_resize = function(x_pixels, y_pixels) {\n",
       "    // Request matplotlib to resize the figure. Matplotlib will then trigger a resize in the client,\n",
       "    // which will in turn request a refresh of the image.\n",
       "    this.send_message('resize', {'width': x_pixels, 'height': y_pixels});\n",
       "}\n",
       "\n",
       "mpl.figure.prototype.send_message = function(type, properties) {\n",
       "    properties['type'] = type;\n",
       "    properties['figure_id'] = this.id;\n",
       "    this.ws.send(JSON.stringify(properties));\n",
       "}\n",
       "\n",
       "mpl.figure.prototype.send_draw_message = function() {\n",
       "    if (!this.waiting) {\n",
       "        this.waiting = true;\n",
       "        this.ws.send(JSON.stringify({type: \"draw\", figure_id: this.id}));\n",
       "    }\n",
       "}\n",
       "\n",
       "\n",
       "mpl.figure.prototype.handle_save = function(fig, msg) {\n",
       "    var format_dropdown = fig.format_dropdown;\n",
       "    var format = format_dropdown.options[format_dropdown.selectedIndex].value;\n",
       "    fig.ondownload(fig, format);\n",
       "}\n",
       "\n",
       "\n",
       "mpl.figure.prototype.handle_resize = function(fig, msg) {\n",
       "    var size = msg['size'];\n",
       "    if (size[0] != fig.canvas.width || size[1] != fig.canvas.height) {\n",
       "        fig._resize_canvas(size[0], size[1]);\n",
       "        fig.send_message(\"refresh\", {});\n",
       "    };\n",
       "}\n",
       "\n",
       "mpl.figure.prototype.handle_rubberband = function(fig, msg) {\n",
       "    var x0 = msg['x0'] / mpl.ratio;\n",
       "    var y0 = (fig.canvas.height - msg['y0']) / mpl.ratio;\n",
       "    var x1 = msg['x1'] / mpl.ratio;\n",
       "    var y1 = (fig.canvas.height - msg['y1']) / mpl.ratio;\n",
       "    x0 = Math.floor(x0) + 0.5;\n",
       "    y0 = Math.floor(y0) + 0.5;\n",
       "    x1 = Math.floor(x1) + 0.5;\n",
       "    y1 = Math.floor(y1) + 0.5;\n",
       "    var min_x = Math.min(x0, x1);\n",
       "    var min_y = Math.min(y0, y1);\n",
       "    var width = Math.abs(x1 - x0);\n",
       "    var height = Math.abs(y1 - y0);\n",
       "\n",
       "    fig.rubberband_context.clearRect(\n",
       "        0, 0, fig.canvas.width / mpl.ratio, fig.canvas.height / mpl.ratio);\n",
       "\n",
       "    fig.rubberband_context.strokeRect(min_x, min_y, width, height);\n",
       "}\n",
       "\n",
       "mpl.figure.prototype.handle_figure_label = function(fig, msg) {\n",
       "    // Updates the figure title.\n",
       "    fig.header.textContent = msg['label'];\n",
       "}\n",
       "\n",
       "mpl.figure.prototype.handle_cursor = function(fig, msg) {\n",
       "    var cursor = msg['cursor'];\n",
       "    switch(cursor)\n",
       "    {\n",
       "    case 0:\n",
       "        cursor = 'pointer';\n",
       "        break;\n",
       "    case 1:\n",
       "        cursor = 'default';\n",
       "        break;\n",
       "    case 2:\n",
       "        cursor = 'crosshair';\n",
       "        break;\n",
       "    case 3:\n",
       "        cursor = 'move';\n",
       "        break;\n",
       "    }\n",
       "    fig.rubberband_canvas.style.cursor = cursor;\n",
       "}\n",
       "\n",
       "mpl.figure.prototype.handle_message = function(fig, msg) {\n",
       "    fig.message.textContent = msg['message'];\n",
       "}\n",
       "\n",
       "mpl.figure.prototype.handle_draw = function(fig, msg) {\n",
       "    // Request the server to send over a new figure.\n",
       "    fig.send_draw_message();\n",
       "}\n",
       "\n",
       "mpl.figure.prototype.handle_image_mode = function(fig, msg) {\n",
       "    fig.image_mode = msg['mode'];\n",
       "}\n",
       "\n",
       "mpl.figure.prototype.updated_canvas_event = function() {\n",
       "    // Called whenever the canvas gets updated.\n",
       "    this.send_message(\"ack\", {});\n",
       "}\n",
       "\n",
       "// A function to construct a web socket function for onmessage handling.\n",
       "// Called in the figure constructor.\n",
       "mpl.figure.prototype._make_on_message_function = function(fig) {\n",
       "    return function socket_on_message(evt) {\n",
       "        if (evt.data instanceof Blob) {\n",
       "            /* FIXME: We get \"Resource interpreted as Image but\n",
       "             * transferred with MIME type text/plain:\" errors on\n",
       "             * Chrome.  But how to set the MIME type?  It doesn't seem\n",
       "             * to be part of the websocket stream */\n",
       "            evt.data.type = \"image/png\";\n",
       "\n",
       "            /* Free the memory for the previous frames */\n",
       "            if (fig.imageObj.src) {\n",
       "                (window.URL || window.webkitURL).revokeObjectURL(\n",
       "                    fig.imageObj.src);\n",
       "            }\n",
       "\n",
       "            fig.imageObj.src = (window.URL || window.webkitURL).createObjectURL(\n",
       "                evt.data);\n",
       "            fig.updated_canvas_event();\n",
       "            fig.waiting = false;\n",
       "            return;\n",
       "        }\n",
       "        else if (typeof evt.data === 'string' && evt.data.slice(0, 21) == \"data:image/png;base64\") {\n",
       "            fig.imageObj.src = evt.data;\n",
       "            fig.updated_canvas_event();\n",
       "            fig.waiting = false;\n",
       "            return;\n",
       "        }\n",
       "\n",
       "        var msg = JSON.parse(evt.data);\n",
       "        var msg_type = msg['type'];\n",
       "\n",
       "        // Call the  \"handle_{type}\" callback, which takes\n",
       "        // the figure and JSON message as its only arguments.\n",
       "        try {\n",
       "            var callback = fig[\"handle_\" + msg_type];\n",
       "        } catch (e) {\n",
       "            console.log(\"No handler for the '\" + msg_type + \"' message type: \", msg);\n",
       "            return;\n",
       "        }\n",
       "\n",
       "        if (callback) {\n",
       "            try {\n",
       "                // console.log(\"Handling '\" + msg_type + \"' message: \", msg);\n",
       "                callback(fig, msg);\n",
       "            } catch (e) {\n",
       "                console.log(\"Exception inside the 'handler_\" + msg_type + \"' callback:\", e, e.stack, msg);\n",
       "            }\n",
       "        }\n",
       "    };\n",
       "}\n",
       "\n",
       "// from http://stackoverflow.com/questions/1114465/getting-mouse-location-in-canvas\n",
       "mpl.findpos = function(e) {\n",
       "    //this section is from http://www.quirksmode.org/js/events_properties.html\n",
       "    var targ;\n",
       "    if (!e)\n",
       "        e = window.event;\n",
       "    if (e.target)\n",
       "        targ = e.target;\n",
       "    else if (e.srcElement)\n",
       "        targ = e.srcElement;\n",
       "    if (targ.nodeType == 3) // defeat Safari bug\n",
       "        targ = targ.parentNode;\n",
       "\n",
       "    // jQuery normalizes the pageX and pageY\n",
       "    // pageX,Y are the mouse positions relative to the document\n",
       "    // offset() returns the position of the element relative to the document\n",
       "    var x = e.pageX - $(targ).offset().left;\n",
       "    var y = e.pageY - $(targ).offset().top;\n",
       "\n",
       "    return {\"x\": x, \"y\": y};\n",
       "};\n",
       "\n",
       "/*\n",
       " * return a copy of an object with only non-object keys\n",
       " * we need this to avoid circular references\n",
       " * http://stackoverflow.com/a/24161582/3208463\n",
       " */\n",
       "function simpleKeys (original) {\n",
       "  return Object.keys(original).reduce(function (obj, key) {\n",
       "    if (typeof original[key] !== 'object')\n",
       "        obj[key] = original[key]\n",
       "    return obj;\n",
       "  }, {});\n",
       "}\n",
       "\n",
       "mpl.figure.prototype.mouse_event = function(event, name) {\n",
       "    var canvas_pos = mpl.findpos(event)\n",
       "\n",
       "    if (name === 'button_press')\n",
       "    {\n",
       "        this.canvas.focus();\n",
       "        this.canvas_div.focus();\n",
       "    }\n",
       "\n",
       "    var x = canvas_pos.x * mpl.ratio;\n",
       "    var y = canvas_pos.y * mpl.ratio;\n",
       "\n",
       "    this.send_message(name, {x: x, y: y, button: event.button,\n",
       "                             step: event.step,\n",
       "                             guiEvent: simpleKeys(event)});\n",
       "\n",
       "    /* This prevents the web browser from automatically changing to\n",
       "     * the text insertion cursor when the button is pressed.  We want\n",
       "     * to control all of the cursor setting manually through the\n",
       "     * 'cursor' event from matplotlib */\n",
       "    event.preventDefault();\n",
       "    return false;\n",
       "}\n",
       "\n",
       "mpl.figure.prototype._key_event_extra = function(event, name) {\n",
       "    // Handle any extra behaviour associated with a key event\n",
       "}\n",
       "\n",
       "mpl.figure.prototype.key_event = function(event, name) {\n",
       "\n",
       "    // Prevent repeat events\n",
       "    if (name == 'key_press')\n",
       "    {\n",
       "        if (event.which === this._key)\n",
       "            return;\n",
       "        else\n",
       "            this._key = event.which;\n",
       "    }\n",
       "    if (name == 'key_release')\n",
       "        this._key = null;\n",
       "\n",
       "    var value = '';\n",
       "    if (event.ctrlKey && event.which != 17)\n",
       "        value += \"ctrl+\";\n",
       "    if (event.altKey && event.which != 18)\n",
       "        value += \"alt+\";\n",
       "    if (event.shiftKey && event.which != 16)\n",
       "        value += \"shift+\";\n",
       "\n",
       "    value += 'k';\n",
       "    value += event.which.toString();\n",
       "\n",
       "    this._key_event_extra(event, name);\n",
       "\n",
       "    this.send_message(name, {key: value,\n",
       "                             guiEvent: simpleKeys(event)});\n",
       "    return false;\n",
       "}\n",
       "\n",
       "mpl.figure.prototype.toolbar_button_onclick = function(name) {\n",
       "    if (name == 'download') {\n",
       "        this.handle_save(this, null);\n",
       "    } else {\n",
       "        this.send_message(\"toolbar_button\", {name: name});\n",
       "    }\n",
       "};\n",
       "\n",
       "mpl.figure.prototype.toolbar_button_onmouseover = function(tooltip) {\n",
       "    this.message.textContent = tooltip;\n",
       "};\n",
       "mpl.toolbar_items = [[\"Home\", \"Reset original view\", \"fa fa-home icon-home\", \"home\"], [\"Back\", \"Back to previous view\", \"fa fa-arrow-left icon-arrow-left\", \"back\"], [\"Forward\", \"Forward to next view\", \"fa fa-arrow-right icon-arrow-right\", \"forward\"], [\"\", \"\", \"\", \"\"], [\"Pan\", \"Pan axes with left mouse, zoom with right\", \"fa fa-arrows icon-move\", \"pan\"], [\"Zoom\", \"Zoom to rectangle\", \"fa fa-square-o icon-check-empty\", \"zoom\"], [\"\", \"\", \"\", \"\"], [\"Download\", \"Download plot\", \"fa fa-floppy-o icon-save\", \"download\"]];\n",
       "\n",
       "mpl.extensions = [\"eps\", \"jpeg\", \"pdf\", \"png\", \"ps\", \"raw\", \"svg\", \"tif\"];\n",
       "\n",
       "mpl.default_extension = \"png\";var comm_websocket_adapter = function(comm) {\n",
       "    // Create a \"websocket\"-like object which calls the given IPython comm\n",
       "    // object with the appropriate methods. Currently this is a non binary\n",
       "    // socket, so there is still some room for performance tuning.\n",
       "    var ws = {};\n",
       "\n",
       "    ws.close = function() {\n",
       "        comm.close()\n",
       "    };\n",
       "    ws.send = function(m) {\n",
       "        //console.log('sending', m);\n",
       "        comm.send(m);\n",
       "    };\n",
       "    // Register the callback with on_msg.\n",
       "    comm.on_msg(function(msg) {\n",
       "        //console.log('receiving', msg['content']['data'], msg);\n",
       "        // Pass the mpl event to the overridden (by mpl) onmessage function.\n",
       "        ws.onmessage(msg['content']['data'])\n",
       "    });\n",
       "    return ws;\n",
       "}\n",
       "\n",
       "mpl.mpl_figure_comm = function(comm, msg) {\n",
       "    // This is the function which gets called when the mpl process\n",
       "    // starts-up an IPython Comm through the \"matplotlib\" channel.\n",
       "\n",
       "    var id = msg.content.data.id;\n",
       "    // Get hold of the div created by the display call when the Comm\n",
       "    // socket was opened in Python.\n",
       "    var element = $(\"#\" + id);\n",
       "    var ws_proxy = comm_websocket_adapter(comm)\n",
       "\n",
       "    function ondownload(figure, format) {\n",
       "        window.open(figure.imageObj.src);\n",
       "    }\n",
       "\n",
       "    var fig = new mpl.figure(id, ws_proxy,\n",
       "                           ondownload,\n",
       "                           element.get(0));\n",
       "\n",
       "    // Call onopen now - mpl needs it, as it is assuming we've passed it a real\n",
       "    // web socket which is closed, not our websocket->open comm proxy.\n",
       "    ws_proxy.onopen();\n",
       "\n",
       "    fig.parent_element = element.get(0);\n",
       "    fig.cell_info = mpl.find_output_cell(\"<div id='\" + id + \"'></div>\");\n",
       "    if (!fig.cell_info) {\n",
       "        console.error(\"Failed to find cell for figure\", id, fig);\n",
       "        return;\n",
       "    }\n",
       "\n",
       "    var output_index = fig.cell_info[2]\n",
       "    var cell = fig.cell_info[0];\n",
       "\n",
       "};\n",
       "\n",
       "mpl.figure.prototype.handle_close = function(fig, msg) {\n",
       "    var width = fig.canvas.width/mpl.ratio\n",
       "    fig.root.unbind('remove')\n",
       "\n",
       "    // Update the output cell to use the data from the current canvas.\n",
       "    fig.push_to_output();\n",
       "    var dataURL = fig.canvas.toDataURL();\n",
       "    // Re-enable the keyboard manager in IPython - without this line, in FF,\n",
       "    // the notebook keyboard shortcuts fail.\n",
       "    IPython.keyboard_manager.enable()\n",
       "    $(fig.parent_element).html('<img src=\"' + dataURL + '\" width=\"' + width + '\">');\n",
       "    fig.close_ws(fig, msg);\n",
       "}\n",
       "\n",
       "mpl.figure.prototype.close_ws = function(fig, msg){\n",
       "    fig.send_message('closing', msg);\n",
       "    // fig.ws.close()\n",
       "}\n",
       "\n",
       "mpl.figure.prototype.push_to_output = function(remove_interactive) {\n",
       "    // Turn the data on the canvas into data in the output cell.\n",
       "    var width = this.canvas.width/mpl.ratio\n",
       "    var dataURL = this.canvas.toDataURL();\n",
       "    this.cell_info[1]['text/html'] = '<img src=\"' + dataURL + '\" width=\"' + width + '\">';\n",
       "}\n",
       "\n",
       "mpl.figure.prototype.updated_canvas_event = function() {\n",
       "    // Tell IPython that the notebook contents must change.\n",
       "    IPython.notebook.set_dirty(true);\n",
       "    this.send_message(\"ack\", {});\n",
       "    var fig = this;\n",
       "    // Wait a second, then push the new image to the DOM so\n",
       "    // that it is saved nicely (might be nice to debounce this).\n",
       "    setTimeout(function () { fig.push_to_output() }, 1000);\n",
       "}\n",
       "\n",
       "mpl.figure.prototype._init_toolbar = function() {\n",
       "    var fig = this;\n",
       "\n",
       "    var nav_element = $('<div/>');\n",
       "    nav_element.attr('style', 'width: 100%');\n",
       "    this.root.append(nav_element);\n",
       "\n",
       "    // Define a callback function for later on.\n",
       "    function toolbar_event(event) {\n",
       "        return fig.toolbar_button_onclick(event['data']);\n",
       "    }\n",
       "    function toolbar_mouse_event(event) {\n",
       "        return fig.toolbar_button_onmouseover(event['data']);\n",
       "    }\n",
       "\n",
       "    for(var toolbar_ind in mpl.toolbar_items){\n",
       "        var name = mpl.toolbar_items[toolbar_ind][0];\n",
       "        var tooltip = mpl.toolbar_items[toolbar_ind][1];\n",
       "        var image = mpl.toolbar_items[toolbar_ind][2];\n",
       "        var method_name = mpl.toolbar_items[toolbar_ind][3];\n",
       "\n",
       "        if (!name) { continue; };\n",
       "\n",
       "        var button = $('<button class=\"btn btn-default\" href=\"#\" title=\"' + name + '\"><i class=\"fa ' + image + ' fa-lg\"></i></button>');\n",
       "        button.click(method_name, toolbar_event);\n",
       "        button.mouseover(tooltip, toolbar_mouse_event);\n",
       "        nav_element.append(button);\n",
       "    }\n",
       "\n",
       "    // Add the status bar.\n",
       "    var status_bar = $('<span class=\"mpl-message\" style=\"text-align:right; float: right;\"/>');\n",
       "    nav_element.append(status_bar);\n",
       "    this.message = status_bar[0];\n",
       "\n",
       "    // Add the close button to the window.\n",
       "    var buttongrp = $('<div class=\"btn-group inline pull-right\"></div>');\n",
       "    var button = $('<button class=\"btn btn-mini btn-primary\" href=\"#\" title=\"Stop Interaction\"><i class=\"fa fa-power-off icon-remove icon-large\"></i></button>');\n",
       "    button.click(function (evt) { fig.handle_close(fig, {}); } );\n",
       "    button.mouseover('Stop Interaction', toolbar_mouse_event);\n",
       "    buttongrp.append(button);\n",
       "    var titlebar = this.root.find($('.ui-dialog-titlebar'));\n",
       "    titlebar.prepend(buttongrp);\n",
       "}\n",
       "\n",
       "mpl.figure.prototype._root_extra_style = function(el){\n",
       "    var fig = this\n",
       "    el.on(\"remove\", function(){\n",
       "\tfig.close_ws(fig, {});\n",
       "    });\n",
       "}\n",
       "\n",
       "mpl.figure.prototype._canvas_extra_style = function(el){\n",
       "    // this is important to make the div 'focusable\n",
       "    el.attr('tabindex', 0)\n",
       "    // reach out to IPython and tell the keyboard manager to turn it's self\n",
       "    // off when our div gets focus\n",
       "\n",
       "    // location in version 3\n",
       "    if (IPython.notebook.keyboard_manager) {\n",
       "        IPython.notebook.keyboard_manager.register_events(el);\n",
       "    }\n",
       "    else {\n",
       "        // location in version 2\n",
       "        IPython.keyboard_manager.register_events(el);\n",
       "    }\n",
       "\n",
       "}\n",
       "\n",
       "mpl.figure.prototype._key_event_extra = function(event, name) {\n",
       "    var manager = IPython.notebook.keyboard_manager;\n",
       "    if (!manager)\n",
       "        manager = IPython.keyboard_manager;\n",
       "\n",
       "    // Check for shift+enter\n",
       "    if (event.shiftKey && event.which == 13) {\n",
       "        this.canvas_div.blur();\n",
       "        // select the cell after this one\n",
       "        var index = IPython.notebook.find_cell_index(this.cell_info[0]);\n",
       "        IPython.notebook.select(index + 1);\n",
       "    }\n",
       "}\n",
       "\n",
       "mpl.figure.prototype.handle_save = function(fig, msg) {\n",
       "    fig.ondownload(fig, null);\n",
       "}\n",
       "\n",
       "\n",
       "mpl.find_output_cell = function(html_output) {\n",
       "    // Return the cell and output element which can be found *uniquely* in the notebook.\n",
       "    // Note - this is a bit hacky, but it is done because the \"notebook_saving.Notebook\"\n",
       "    // IPython event is triggered only after the cells have been serialised, which for\n",
       "    // our purposes (turning an active figure into a static one), is too late.\n",
       "    var cells = IPython.notebook.get_cells();\n",
       "    var ncells = cells.length;\n",
       "    for (var i=0; i<ncells; i++) {\n",
       "        var cell = cells[i];\n",
       "        if (cell.cell_type === 'code'){\n",
       "            for (var j=0; j<cell.output_area.outputs.length; j++) {\n",
       "                var data = cell.output_area.outputs[j];\n",
       "                if (data.data) {\n",
       "                    // IPython >= 3 moved mimebundle to data attribute of output\n",
       "                    data = data.data;\n",
       "                }\n",
       "                if (data['text/html'] == html_output) {\n",
       "                    return [cell, data, j];\n",
       "                }\n",
       "            }\n",
       "        }\n",
       "    }\n",
       "}\n",
       "\n",
       "// Register the function which deals with the matplotlib target/channel.\n",
       "// The kernel may be null if the page has been refreshed.\n",
       "if (IPython.notebook.kernel != null) {\n",
       "    IPython.notebook.kernel.comm_manager.register_target('matplotlib', mpl.mpl_figure_comm);\n",
       "}\n"
      ],
      "text/plain": [
       "<IPython.core.display.Javascript object>"
      ]
     },
     "metadata": {},
     "output_type": "display_data"
    },
    {
     "data": {
      "text/html": [
       "<img src=\"data:image/png;base64,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\" width=\"432\">"
      ],
      "text/plain": [
       "<IPython.core.display.HTML object>"
      ]
     },
     "metadata": {},
     "output_type": "display_data"
    }
   ],
   "source": [
    "plt.scatter(x = [1,4,6,8], y = [1,8,2,1])\n",
    "plt.show()"
   ]
  },
  {
   "cell_type": "markdown",
   "metadata": {},
   "source": [
    "\n",
    "<img src=\"https://python-graph-gallery.com/wp-content/uploads/Logo_PGG_full-3.jpg\" width=600>\n",
    "\n",
    "The [Python Graph Gallery](https://python-graph-gallery.com/matplotlib/) has some great resources to guide you through the code needed to create each type of matplotlib plot. \n",
    "\n",
    "## Plot Anatomy\n",
    "Let's spend some time on the terminology of a plot. There are a lot of options to set in matplotlib plots, so let's identify some common terminology. \n",
    "\n",
    "The sequence of events with matplotlib are:\n",
    "\n",
    "| Step | Code Example |\n",
    "| :---- | :------------ |\n",
    "| 1. Create figure | `fig = plt.figure(figsize=(2, 4))` |\n",
    "| 2. Create axis object | `ax = plt.subplot()` |\n",
    "| 3. Make adjustments | `plt.title`, `ax.set_xticks`, etc |\n",
    "| 4. Show final plot | `plt.show()` . |\n",
    "\n",
    "\n",
    "The [Pyplot tutorial](https://matplotlib.org/tutorials/introductory/pyplot.html) shows a list of options you can set within a plot.\n",
    "\n",
    "<img src=\"https://matplotlib.org/_images/sphx_glr_anatomy_001.png\" width=550>\n",
    "\n",
    "\n",
    "Let's look [how they created this plot.](https://matplotlib.org/gallery/showcase/anatomy.html)\n",
    "\n",
    "[What is ax and figure?](https://stackoverflow.com/questions/34162443/why-do-many-examples-use-fig-ax-plt-subplots-in-matplotlib-pyplot-python)"
   ]
  },
  {
   "cell_type": "code",
   "execution_count": 7,
   "metadata": {},
   "outputs": [
    {
     "data": {
      "text/plain": [
       "[<matplotlib.lines.Line2D at 0x7fac693f7390>]"
      ]
     },
     "execution_count": 7,
     "metadata": {},
     "output_type": "execute_result"
    },
    {
     "data": {
      "image/png": "[encoded data removed]",
      "text/plain": [
       "<Figure size 432x288 with 1 Axes>"
      ]
     },
     "metadata": {
      "needs_background": "light"
     },
     "output_type": "display_data"
    }
   ],
   "source": [
    "%matplotlib inline\n",
    "fig = plt.figure()\n",
    "ax = plt.axes()\n",
    "x = np.linspace(0, 10, 1000)\n",
    "ax.plot(x, np.sin(x))\n",
    "ax.plot(x, 100*np.cos(x))\n",
    "\n",
    "#BER CAREFUL WITH SCALES"
   ]
  },
  {
   "cell_type": "code",
   "execution_count": 8,
   "metadata": {},
   "outputs": [
    {
     "data": {
      "text/plain": [
       "[<matplotlib.lines.Line2D at 0x7fac6955ad90>]"
      ]
     },
     "execution_count": 8,
     "metadata": {},
     "output_type": "execute_result"
    },
    {
     "data": {
      "image/png": "[encoded data removed]",
      "text/plain": [
       "<Figure size 432x288 with 1 Axes>"
      ]
     },
     "metadata": {
      "needs_background": "light"
     },
     "output_type": "display_data"
    }
   ],
   "source": [
    "plt.plot(x, np.sin(x))\n",
    "plt.plot(x, np.cos(x), linestyle= '-.')"
   ]
  },
  {
   "cell_type": "code",
   "execution_count": 9,
   "metadata": {
    "scrolled": true
   },
   "outputs": [
    {
     "data": {
      "text/plain": [
       "[<matplotlib.lines.Line2D at 0x7fac69676dd0>]"
      ]
     },
     "execution_count": 9,
     "metadata": {},
     "output_type": "execute_result"
    },
    {
     "data": {
      "image/png": "[encoded data removed]",
      "text/plain": [
       "<Figure size 432x288 with 1 Axes>"
      ]
     },
     "metadata": {
      "needs_background": "light"
     },
     "output_type": "display_data"
    }
   ],
   "source": [
    "## limits of the axes\n",
    "\n",
    "plt.plot(x, np.sin(x), color = 'c')\n",
    "plt.plot(x, 4*np.cos(x), linestyle= ':')"
   ]
  },
  {
   "cell_type": "markdown",
   "metadata": {},
   "source": [
    "- change limits of graph \n",
    "    - `plt.xlim(lower, upper)`\n",
    "    - `plt.ylim(lower, upper)`\n",
    "    - `plt.axis([lowerx, upperx, lowery, uppery])`"
   ]
  },
  {
   "cell_type": "code",
   "execution_count": 10,
   "metadata": {},
   "outputs": [
    {
     "data": {
      "text/plain": [
       "(-2, 2)"
      ]
     },
     "execution_count": 10,
     "metadata": {},
     "output_type": "execute_result"
    },
    {
     "data": {
      "image/png": "[encoded data removed]",
      "text/plain": [
       "<Figure size 432x288 with 1 Axes>"
      ]
     },
     "metadata": {
      "needs_background": "light"
     },
     "output_type": "display_data"
    }
   ],
   "source": [
    "## limits of the axes\n",
    "\n",
    "plt.plot(x, np.sin(x), color = 'c')\n",
    "plt.plot(x, 4*np.cos(x), linestyle= '-.')\n",
    "plt.xlim(-5*np.pi, 5*np.pi)\n",
    "plt.ylim(-2,2)"
   ]
  },
  {
   "cell_type": "code",
   "execution_count": 11,
   "metadata": {
    "scrolled": true
   },
   "outputs": [
    {
     "data": {
      "text/plain": [
       "[-10, 10, -20, 10]"
      ]
     },
     "execution_count": 11,
     "metadata": {},
     "output_type": "execute_result"
    },
    {
     "data": {
      "image/png": "[encoded data removed]",
      "text/plain": [
       "<Figure size 432x288 with 1 Axes>"
      ]
     },
     "metadata": {
      "needs_background": "light"
     },
     "output_type": "display_data"
    }
   ],
   "source": [
    "## limits of the axes\n",
    "\n",
    "plt.plot(x, np.sin(x))\n",
    "plt.plot(x, 4*np.cos(x), linestyle= '-.')\n",
    "## [xmin, xmax, ymin, ymax]\n",
    "plt.axis([-10,10, -20, 10])"
   ]
  },
  {
   "cell_type": "code",
   "execution_count": 12,
   "metadata": {},
   "outputs": [
    {
     "data": {
      "text/plain": [
       "(-0.5, 10.5, -4.3999949515635155, 6.6000050484364845)"
      ]
     },
     "execution_count": 12,
     "metadata": {},
     "output_type": "execute_result"
    },
    {
     "data": {
      "image/png": "[encoded data removed]",
      "text/plain": [
       "<Figure size 432x288 with 1 Axes>"
      ]
     },
     "metadata": {
      "needs_background": "light"
     },
     "output_type": "display_data"
    }
   ],
   "source": [
    "plt.plot(x, np.sin(x))\n",
    "plt.plot(x, 4*np.cos(x), linestyle= '-.')\n",
    "## we can use 'equal', 'tight', 'scaled' etc.\n",
    "#plt.axis('scaled')\n",
    "#plt.axis('tight')\n",
    "plt.axis('square')"
   ]
  },
  {
   "cell_type": "markdown",
   "metadata": {},
   "source": [
    "### Labeling Plots"
   ]
  },
  {
   "cell_type": "code",
   "execution_count": 13,
   "metadata": {},
   "outputs": [
    {
     "data": {
      "text/plain": [
       "<matplotlib.legend.Legend at 0x7fac69a6dd50>"
      ]
     },
     "execution_count": 13,
     "metadata": {},
     "output_type": "execute_result"
    },
    {
     "data": {
      "image/png": "[encoded data removed]",
      "text/plain": [
       "<Figure size 432x288 with 1 Axes>"
      ]
     },
     "metadata": {
      "needs_background": "light"
     },
     "output_type": "display_data"
    }
   ],
   "source": [
    "plt.plot(x, (np.sin(x**2)), label = '$\\sin(x^2)$')\n",
    "plt.title(\"$\\sin(x^{2})$ Curve\")\n",
    "plt.xlabel(\"x\")\n",
    "plt.ylabel(\"$\\sin(x^{2})$\");\n",
    "plt.legend('best')\n",
    "#plt.legend(loc = 2)"
   ]
  },
  {
   "cell_type": "markdown",
   "metadata": {},
   "source": [
    "Transition from `plt` to `ax`\n",
    "\n",
    "<img src='images/styles.png' width = 300 />"
   ]
  },
  {
   "cell_type": "code",
   "execution_count": 14,
   "metadata": {},
   "outputs": [
    {
     "data": {
      "image/png": "[encoded data removed]",
      "text/plain": [
       "<Figure size 432x288 with 1 Axes>"
      ]
     },
     "metadata": {
      "needs_background": "light"
     },
     "output_type": "display_data"
    }
   ],
   "source": [
    "ax = plt.axes()\n",
    "ax.plot(x, np.sin(x))\n",
    "ax.set(xlim=(0, 10), ylim=(-2, 2),\n",
    "       xlabel='x', ylabel='sin(x)',\n",
    "       title='A Simple Plot');\n",
    "\n"
   ]
  },
  {
   "cell_type": "markdown",
   "metadata": {},
   "source": [
    "[For the scatter plots](https://jakevdp.github.io/PythonDataScienceHandbook/04.02-simple-scatter-plots.html)"
   ]
  },
  {
   "cell_type": "markdown",
   "metadata": {},
   "source": [
    "## Barplots\n",
    "Barplots are used for displaying __one dimensional__, __categorical__ data. You call plt.bar with two arguments:\n",
    "- the x — a list of x-positions for each bar\n",
    "- the y-values — a list of heights for each bar"
   ]
  },
  {
   "cell_type": "code",
   "execution_count": 15,
   "metadata": {},
   "outputs": [],
   "source": [
    "import pandas as pd"
   ]
  },
  {
   "cell_type": "code",
   "execution_count": 16,
   "metadata": {
    "scrolled": false
   },
   "outputs": [
    {
     "data": {
      "image/png": "[encoded data removed]",
      "text/plain": [
       "<Figure size 432x288 with 1 Axes>"
      ]
     },
     "metadata": {
      "needs_background": "light"
     },
     "output_type": "display_data"
    }
   ],
   "source": [
    "# an example of a bar plot\n",
    "ax = plt.subplot()\n",
    "our_dogs = [\"dengue\", \"dolce\", \"murray\", \"dog_a\", \"dog_b\", \"dog_c\"]\n",
    "dogs_age = [5, 8, 5, 4, 6, 7]\n",
    "\n",
    "plt.bar(our_dogs, dogs_age)\n",
    "\n",
    "# # set ticks values, as a method of the axes\n",
    "ax.set_xticks(range(0, len(our_dogs)))\n",
    "ax.set_xticklabels(our_dogs)\n",
    "\n",
    "plt.title('age of random dogs')\n",
    "plt.xlabel('dogs')\n",
    "plt.xticks(rotation = 90)\n",
    "plt.ylabel('age')\n",
    "plt.show()"
   ]
  },
  {
   "cell_type": "code",
   "execution_count": 17,
   "metadata": {
    "scrolled": false
   },
   "outputs": [
    {
     "data": {
      "text/plain": [
       "Text(0.5, 1.0, 'cat age')"
      ]
     },
     "execution_count": 17,
     "metadata": {},
     "output_type": "execute_result"
    },
    {
     "data": {
      "image/png": "[encoded data removed]",
      "text/plain": [
       "<Figure size 720x576 with 2 Axes>"
      ]
     },
     "metadata": {
      "needs_background": "light"
     },
     "output_type": "display_data"
    }
   ],
   "source": [
    "# utilizing the subplot function and creating subplots\n",
    "our_cats = [\"cat_1\", \"cat_2\", \"cat_3\", \"cat_4\", \"cat_5\", \"cat_6\"]\n",
    "cats_age = [14, 16, 17, 20, 18, 24]\n",
    "fig = plt.figure(figsize=(10, 8))\n",
    "plt.subplot(2, 2, 1)  #rows, columns, index of position\n",
    "plt.bar(range(len(our_dogs)), dogs_age, color='pink')\n",
    "plt.title('dog age')\n",
    "plt.subplot(2, 2, 2)  #position of subplot\n",
    "plt.bar(range(len(our_cats)), cats_age, color='green')\n",
    "plt.title('cat age')"
   ]
  },
  {
   "cell_type": "code",
   "execution_count": 18,
   "metadata": {
    "scrolled": true
   },
   "outputs": [
    {
     "data": {
      "text/plain": [
       "<matplotlib.legend.Legend at 0x7fac6ab43c90>"
      ]
     },
     "execution_count": 18,
     "metadata": {},
     "output_type": "execute_result"
    },
    {
     "data": {
      "image/png": "[encoded data removed]",
      "text/plain": [
       "<Figure size 432x288 with 1 Axes>"
      ]
     },
     "metadata": {
      "needs_background": "light"
     },
     "output_type": "display_data"
    }
   ],
   "source": [
    "# we can create overlaid or side-by-side bargraph. You need\n",
    "# to shift the x value by width to accommodate for two graphs.\n",
    "\n",
    "fig = plt.figure()\n",
    "n = 1  # This is our first dataset (out of 2)\n",
    "t = 2  # Number of datasets\n",
    "d = 6  # Number of sets of bars\n",
    "w = 0.8  # Width of each bar\n",
    "\n",
    "# essentially, this list comprehension gives us the position\n",
    "dog_values = [t*element + w*n for element in range(d)]\n",
    "\n",
    "# of the position of dogs\n",
    "plt.bar(dog_values, dogs_age, color='green')\n",
    "\n",
    "\n",
    "n = 2  # This is our second dataset (out of 2)\n",
    "t = 2  # Number of datasets\n",
    "d = 6  # Number of sets of bars\n",
    "w = 0.8  # Width of each bar\n",
    "\n",
    "cat_values = [t*element + w*n for element in range(d)]\n",
    "\n",
    "plt.bar(cat_values, cats_age, color='purple')\n",
    "plt.legend([\"dogs\", \"cats\"])"
   ]
  },
  {
   "cell_type": "code",
   "execution_count": 19,
   "metadata": {},
   "outputs": [
    {
     "name": "stdout",
     "output_type": "stream",
     "text": [
      "[0.8, 2.8, 4.8, 6.8, 8.8, 10.8]\n",
      "[1.6, 3.6, 5.6, 7.6, 9.6, 11.6]\n"
     ]
    }
   ],
   "source": [
    "print(dog_values)\n",
    "print(cat_values)"
   ]
  },
  {
   "cell_type": "code",
   "execution_count": 20,
   "metadata": {
    "scrolled": true
   },
   "outputs": [
    {
     "data": {
      "image/png": "[encoded data removed]",
      "text/plain": [
       "<Figure size 432x288 with 1 Axes>"
      ]
     },
     "metadata": {
      "needs_background": "light"
     },
     "output_type": "display_data"
    }
   ],
   "source": [
    "# stacked barplots\n",
    "ax = plt.subplot()\n",
    "music_festivals = [\"Coachella\", \"Govball\", \"EDC\", \"Ultra\"]\n",
    "ticket_sales_in_millon = [114, 62, 120, 116]\n",
    "people_attended_in_thousands = [126, 114, 130, 110]\n",
    "\n",
    "plt.bar(range(len(music_festivals)),\n",
    "        ticket_sales_in_millon)\n",
    "plt.bar(range(len(music_festivals)),\n",
    "        people_attended_in_thousands,\n",
    "        bottom=ticket_sales_in_millon)\n",
    "\n",
    "plt.legend([\"tix sales\", \"number of people\"])\n",
    "ax.set_xticks(range(0, len(music_festivals)))\n",
    "ax.set_xticklabels(music_festivals)\n",
    "plt.show()"
   ]
  },
  {
   "cell_type": "markdown",
   "metadata": {},
   "source": [
    "## Bar plot - animal shelter dataset\n",
    "\n",
    "Let's make a bar plot comparing dogs and cats by month when they are admitted to the shelter."
   ]
  },
  {
   "cell_type": "code",
   "execution_count": 21,
   "metadata": {},
   "outputs": [],
   "source": [
    "shelter_df = pd.read_csv('https://data.austintexas.gov/api/views/9t4d-g238/rows.csv?accessType=DOWNLOAD')"
   ]
  },
  {
   "cell_type": "code",
   "execution_count": 23,
   "metadata": {},
   "outputs": [],
   "source": [
    "shelter_df.columns = [x.lower().replace(' ','_') for x in shelter_df.columns]"
   ]
  },
  {
   "cell_type": "code",
   "execution_count": 30,
   "metadata": {},
   "outputs": [
    {
     "name": "stdout",
     "output_type": "stream",
     "text": [
      "(26454, 12)\n"
     ]
    },
    {
     "data": {
      "text/html": [
       "<div>\n",
       "<style scoped>\n",
       "    .dataframe tbody tr th:only-of-type {\n",
       "        vertical-align: middle;\n",
       "    }\n",
       "\n",
       "    .dataframe tbody tr th {\n",
       "        vertical-align: top;\n",
       "    }\n",
       "\n",
       "    .dataframe thead th {\n",
       "        text-align: right;\n",
       "    }\n",
       "</style>\n",
       "<table border=\"1\" class=\"dataframe\">\n",
       "  <thead>\n",
       "    <tr style=\"text-align: right;\">\n",
       "      <th></th>\n",
       "      <th>animal_id</th>\n",
       "      <th>name</th>\n",
       "      <th>datetime</th>\n",
       "      <th>monthyear</th>\n",
       "      <th>date_of_birth</th>\n",
       "      <th>outcome_type</th>\n",
       "      <th>outcome_subtype</th>\n",
       "      <th>animal_type</th>\n",
       "      <th>sex_upon_outcome</th>\n",
       "      <th>age_upon_outcome</th>\n",
       "      <th>breed</th>\n",
       "      <th>color</th>\n",
       "    </tr>\n",
       "  </thead>\n",
       "  <tbody>\n",
       "    <tr>\n",
       "      <th>9</th>\n",
       "      <td>A803149</td>\n",
       "      <td>*Birch</td>\n",
       "      <td>08/31/2019 04:26:00 PM</td>\n",
       "      <td>08/31/2019 04:26:00 PM</td>\n",
       "      <td>08/08/2019</td>\n",
       "      <td>Transfer</td>\n",
       "      <td>Partner</td>\n",
       "      <td>Cat</td>\n",
       "      <td>Intact Male</td>\n",
       "      <td>3 weeks</td>\n",
       "      <td>Domestic Shorthair</td>\n",
       "      <td>Brown Tabby</td>\n",
       "    </tr>\n",
       "    <tr>\n",
       "      <th>10</th>\n",
       "      <td>A698049</td>\n",
       "      <td>Luigi</td>\n",
       "      <td>03/16/2015 02:50:00 PM</td>\n",
       "      <td>03/16/2015 02:50:00 PM</td>\n",
       "      <td>06/05/2014</td>\n",
       "      <td>Transfer</td>\n",
       "      <td>Partner</td>\n",
       "      <td>Cat</td>\n",
       "      <td>Spayed Female</td>\n",
       "      <td>9 months</td>\n",
       "      <td>Domestic Medium Hair Mix</td>\n",
       "      <td>Black/White</td>\n",
       "    </tr>\n",
       "    <tr>\n",
       "      <th>14</th>\n",
       "      <td>A765349</td>\n",
       "      <td>Einstein</td>\n",
       "      <td>06/08/2018 01:04:00 PM</td>\n",
       "      <td>06/08/2018 01:04:00 PM</td>\n",
       "      <td>01/18/2009</td>\n",
       "      <td>Adoption</td>\n",
       "      <td>Foster</td>\n",
       "      <td>Dog</td>\n",
       "      <td>Neutered Male</td>\n",
       "      <td>9 years</td>\n",
       "      <td>Chihuahua Shorthair Mix</td>\n",
       "      <td>Tricolor</td>\n",
       "    </tr>\n",
       "    <tr>\n",
       "      <th>15</th>\n",
       "      <td>A760697</td>\n",
       "      <td>Star</td>\n",
       "      <td>10/26/2017 03:22:00 PM</td>\n",
       "      <td>10/26/2017 03:22:00 PM</td>\n",
       "      <td>10/23/2007</td>\n",
       "      <td>Transfer</td>\n",
       "      <td>Partner</td>\n",
       "      <td>Dog</td>\n",
       "      <td>Intact Male</td>\n",
       "      <td>10 years</td>\n",
       "      <td>Yorkshire Terrier Mix</td>\n",
       "      <td>Brown/Black</td>\n",
       "    </tr>\n",
       "    <tr>\n",
       "      <th>23</th>\n",
       "      <td>A789298</td>\n",
       "      <td>*Mr Wrinkles</td>\n",
       "      <td>04/23/2019 11:59:00 AM</td>\n",
       "      <td>04/23/2019 11:59:00 AM</td>\n",
       "      <td>02/15/2019</td>\n",
       "      <td>Adoption</td>\n",
       "      <td>Foster</td>\n",
       "      <td>Dog</td>\n",
       "      <td>Neutered Male</td>\n",
       "      <td>2 months</td>\n",
       "      <td>Labrador Retriever Mix</td>\n",
       "      <td>Brown/White</td>\n",
       "    </tr>\n",
       "  </tbody>\n",
       "</table>\n",
       "</div>"
      ],
      "text/plain": [
       "   animal_id          name                datetime               monthyear  \\\n",
       "9    A803149        *Birch  08/31/2019 04:26:00 PM  08/31/2019 04:26:00 PM   \n",
       "10   A698049         Luigi  03/16/2015 02:50:00 PM  03/16/2015 02:50:00 PM   \n",
       "14   A765349      Einstein  06/08/2018 01:04:00 PM  06/08/2018 01:04:00 PM   \n",
       "15   A760697          Star  10/26/2017 03:22:00 PM  10/26/2017 03:22:00 PM   \n",
       "23   A789298  *Mr Wrinkles  04/23/2019 11:59:00 AM  04/23/2019 11:59:00 AM   \n",
       "\n",
       "   date_of_birth outcome_type outcome_subtype animal_type sex_upon_outcome  \\\n",
       "9     08/08/2019     Transfer         Partner         Cat      Intact Male   \n",
       "10    06/05/2014     Transfer         Partner         Cat    Spayed Female   \n",
       "14    01/18/2009     Adoption          Foster         Dog    Neutered Male   \n",
       "15    10/23/2007     Transfer         Partner         Dog      Intact Male   \n",
       "23    02/15/2019     Adoption          Foster         Dog    Neutered Male   \n",
       "\n",
       "   age_upon_outcome                     breed        color  \n",
       "9           3 weeks        Domestic Shorthair  Brown Tabby  \n",
       "10         9 months  Domestic Medium Hair Mix  Black/White  \n",
       "14          9 years   Chihuahua Shorthair Mix     Tricolor  \n",
       "15         10 years     Yorkshire Terrier Mix  Brown/Black  \n",
       "23         2 months    Labrador Retriever Mix  Brown/White  "
      ]
     },
     "execution_count": 30,
     "metadata": {},
     "output_type": "execute_result"
    }
   ],
   "source": [
    "print(shelter_df.shape)\n",
    "shelter_df.head()"
   ]
  },
  {
   "cell_type": "code",
   "execution_count": 31,
   "metadata": {},
   "outputs": [
    {
     "data": {
      "text/plain": [
       "26454"
      ]
     },
     "execution_count": 31,
     "metadata": {},
     "output_type": "execute_result"
    }
   ],
   "source": [
    "shelter_df.dropna(inplace = True)\n",
    "len(shelter_df)"
   ]
  },
  {
   "cell_type": "code",
   "execution_count": null,
   "metadata": {},
   "outputs": [],
   "source": []
  },
  {
   "cell_type": "markdown",
   "metadata": {},
   "source": [
    "## Histogram\n",
    "Histograms are like barplots in the sense that it describe __one-dimensional__ data. A histogram divides the variable into bins, counts the number of observations in each bin, and shows the bins on the x-axis and the frequency on the y-axis. It is used for visualizing __continuous__ variables. <br>\n",
    "\n",
    "From the documentation: compute and draw the histogram of x. The return value is a tuple (__n, bins, patches__) or ([n0, n1, ...], bins, [patches0, patches1,...]) if the input contains multiple data."
   ]
  },
  {
   "cell_type": "markdown",
   "metadata": {},
   "source": [
    "<img src= 'images/histogram-basic-example.png' width =350/>"
   ]
  },
  {
   "cell_type": "code",
   "execution_count": 120,
   "metadata": {
    "scrolled": true
   },
   "outputs": [
    {
     "data": {
      "image/png": "[encoded data removed]",
      "text/plain": [
       "<Figure size 432x288 with 1 Axes>"
      ]
     },
     "metadata": {
      "needs_background": "light"
     },
     "output_type": "display_data"
    }
   ],
   "source": [
    "# Set seed for reproducability\n",
    "np.random.seed(2018)\n",
    "\n",
    "# Generate 1000 values from 0 standard normal distribution\n",
    "x = np.random.randn(100000)\n",
    "\n",
    "# Plot the distogram with hist() function\n",
    "plt.hist(x, bins=1000, color='purple')\n",
    "\n",
    "plt.xlabel('Normal random distribution')\n",
    "plt.ylabel('Frequency of Values')\n",
    "plt.title('Histograms')\n",
    "plt.show()"
   ]
  },
  {
   "cell_type": "code",
   "execution_count": 121,
   "metadata": {},
   "outputs": [
    {
     "data": {
      "image/png": "[encoded data removed]",
      "text/plain": [
       "<Figure size 720x576 with 1 Axes>"
      ]
     },
     "metadata": {
      "needs_background": "light"
     },
     "output_type": "display_data"
    }
   ],
   "source": [
    "# overlaid histograms for two distributions\n",
    "# plotting two histograms\n",
    "mu1, sigma1 = 0, 0.1  # mean and standard deviation\n",
    "s1 = np.random.normal(mu1, sigma1, 1000)\n",
    "mu2, sigma2 = 0.2, 0.1\n",
    "s2 = np.random.normal(mu2, sigma2, 1000)\n",
    "plt.figure(figsize=(10, 8))\n",
    "plt.hist(s1, bins=200, density=True, alpha=.5)\n",
    "plt.hist(s2, bins=200, density=True, alpha=.5)\n",
    "plt.show()"
   ]
  },
  {
   "cell_type": "markdown",
   "metadata": {},
   "source": [
    "## Scatterplot - visualizing two dimensional data\n",
    "Scatterplots are usually used for visualizing two dimensional data (observations with two variables). It allows us to examine the relationship between two variables, thus it is sometimes called a correlation plot. "
   ]
  },
  {
   "cell_type": "code",
   "execution_count": null,
   "metadata": {},
   "outputs": [],
   "source": [
    "# generate some data -> the sine wave\n",
    "x = np.linspace(0, 10, 30)\n",
    "y = np.sin(x)\n",
    "plt.scatter(x, y, label=\"Function: sin(x)\")\n",
    "plt.title('Scatter Plot in Matplotlib')\n",
    "plt.legend()\n",
    "plt.show()"
   ]
  },
  {
   "cell_type": "code",
   "execution_count": null,
   "metadata": {
    "scrolled": true
   },
   "outputs": [],
   "source": [
    "# examining correlation with height and weight\n",
    "height = [63, 62, 60, 63, 64, 65, 68, 67, 64, 71, 72, 70, 73]\n",
    "weight = [120, 115, 114, 119, 125, 130, 135, 140, 128, 140, 150, 165, 180]\n",
    "plt.scatter(height, weight, color='r')\n",
    "plt.show()"
   ]
  },
  {
   "cell_type": "markdown",
   "metadata": {},
   "source": [
    "## Pie Charts"
   ]
  },
  {
   "cell_type": "code",
   "execution_count": null,
   "metadata": {
    "scrolled": true
   },
   "outputs": [],
   "source": [
    "# pie chart\n",
    "music_genre = ['R&B', 'Rock', 'Country', 'House', 'Hip Pop', 'Techno']\n",
    "num_people_like = [15, 5, 3, 7, 18, 3]\n",
    "\n",
    "# Make your plot here\n",
    "plt.figure(figsize=(10, 8))\n",
    "plt.pie(num_people_like, labels=music_genre, autopct=\"%1d%%\")\n",
    "\n",
    "plt.axis('equal')\n",
    "plt.title('Music Preference')\n",
    "\n",
    "plt.show()"
   ]
  },
  {
   "cell_type": "markdown",
   "metadata": {},
   "source": [
    "![seaborn](https://d2h0cx97tjks2p.cloudfront.net/blogs/wp-content/uploads/sites/2/2018/07/seaborn.png) \n",
    "\n",
    "# The good, the bad, the seaborn\n",
    "\n",
    "\n",
    "\n",
    "[Data is ugly](https://www.reddit.com/r/dataisugly/)\n",
    "\n",
    "[Data is beatiful](https://www.reddit.com/r/dataisbeautiful/)\n",
    "\n",
    "Learning goals:\n",
    "\n",
    "- Create a list of best practices for data visualization\n",
    "- Identify the differences between matplotlib and seaborn\n",
    "- Create a visualization with seaborn, applying best practices"
   ]
  },
  {
   "cell_type": "markdown",
   "metadata": {},
   "source": [
    "## Best practices for data visualization\n",
    "\n",
    "Documenting best practices:\n",
    "\n",
    "After class, read these articles about the Dos and Don'ts of Visaulizations:\n",
    "- [article 1](https://www.jackhagley.com/What-s-the-difference-between-an-Infographic-and-a-Data-Visualisation)\n",
    "- [article 2](https://thoughtbot.com/blog/analyzing-minards-visualization-of-napoleons-1812-march)\n",
    "- [article 3](http://dataremixed.com/2016/04/the-design-of-everyday-visualizations/)\n",
    "- [article 4](https://visme.co/blog/data-storytelling-tips/)\n",
    "- [article 5](https://www.tableau.com/learn/articles/best-beautiful-data-visualization-examples)\n",
    "- [article 6](files/VisualizationsThatReallyWork.pdf)\n"
   ]
  },
  {
   "cell_type": "markdown",
   "metadata": {},
   "source": [
    "## Differences between seaborn & matplotlib\n",
    "\n",
    "\n",
    "### Two code examples to accomplish the same plot:\n",
    "\n",
    "**Resources:**\n",
    "- [python graph gallery on seaborn](https://python-graph-gallery.com/seaborn/)\n",
    "- [seaborn](https://seaborn.pydata.org/)\n"
   ]
  },
  {
   "cell_type": "code",
   "execution_count": 15,
   "metadata": {},
   "outputs": [],
   "source": [
    "import matplotlib.pyplot as plt\n",
    "import pandas as pd\n",
    "import seaborn as sns\n",
    "%matplotlib inline\n",
    "\n",
    "# Load in data\n",
    "tips = pd.read_csv(\"https://raw.githubusercontent.com/mwaskom/seaborn-data/master/tips.csv\")\n"
   ]
  },
  {
   "cell_type": "code",
   "execution_count": 17,
   "metadata": {},
   "outputs": [
    {
     "data": {
      "image/png": "[encoded data removed]",
      "text/plain": [
       "<Figure size 432x288 with 1 Axes>"
      ]
     },
     "metadata": {
      "needs_background": "light"
     },
     "output_type": "display_data"
    }
   ],
   "source": [
    "# Matplotlib:\n",
    "\n",
    "# Initialize Figure and Axes object\n",
    "fig, ax = plt.subplots()\n",
    "\n",
    "# Create violinplot\n",
    "ax.violinplot(tips[\"total_bill\"], vert=False)\n",
    "\n",
    "# Show the plot\n",
    "plt.show()"
   ]
  },
  {
   "cell_type": "code",
   "execution_count": 18,
   "metadata": {},
   "outputs": [
    {
     "data": {
      "image/png": "[encoded data removed]",
      "text/plain": [
       "<Figure size 432x288 with 1 Axes>"
      ]
     },
     "metadata": {
      "needs_background": "light"
     },
     "output_type": "display_data"
    }
   ],
   "source": [
    "# Seaborn:\n",
    "\n",
    "import matplotlib.pyplot as plt\n",
    "import seaborn as sns\n",
    "\n",
    "# Load the data\n",
    "tips = sns.load_dataset(\"tips\")\n",
    "# tips = pd.read_csv(\"https://raw.githubusercontent.com/mwaskom/seaborn-data/master/tips.csv\")\n",
    "\n",
    "# Create violinplot\n",
    "\n",
    "sns.violinplot(x = \"total_bill\", data=tips)\n",
    "\n",
    "# Show the plot\n",
    "plt.show()"
   ]
  },
  {
   "cell_type": "code",
   "execution_count": null,
   "metadata": {},
   "outputs": [],
   "source": []
  },
  {
   "cell_type": "code",
   "execution_count": 22,
   "metadata": {},
   "outputs": [
    {
     "data": {
      "image/png": "[encoded data removed]",
      "text/plain": [
       "<Figure size 485.359x216 with 2 Axes>"
      ]
     },
     "metadata": {
      "needs_background": "light"
     },
     "output_type": "display_data"
    }
   ],
   "source": [
    "g = sns.FacetGrid(tips, col=\"sex\", hue=\"smoker\")\n",
    "g.map(plt.scatter, \"total_bill\", \"tip\", alpha=.7)\n",
    "g.add_legend();"
   ]
  },
  {
   "cell_type": "code",
   "execution_count": 25,
   "metadata": {},
   "outputs": [
    {
     "name": "stderr",
     "output_type": "stream",
     "text": [
      "//anaconda3/lib/python3.7/site-packages/seaborn/axisgrid.py:728: UserWarning: Using the boxplot function without specifying `order` is likely to produce an incorrect plot.\n",
      "  warnings.warn(warning)\n"
     ]
    },
    {
     "data": {
      "image/png": "[encoded data removed]",
      "text/plain": [
       "<Figure size 576x288 with 4 Axes>"
      ]
     },
     "metadata": {
      "needs_background": "light"
     },
     "output_type": "display_data"
    }
   ],
   "source": [
    "g = sns.FacetGrid(tips, col=\"day\", height=4, aspect=.5)\n",
    "g.map(sns.boxplot, \"sex\", \"total_bill\");"
   ]
  },
  {
   "cell_type": "markdown",
   "metadata": {},
   "source": [
    "## Your turn: Create a visualization with seaborn, applying best practices\n",
    "\n",
    "[exercise from data world](https://data.world/makeovermonday/2018w37-paying-the-president)\n"
   ]
  },
  {
   "cell_type": "code",
   "execution_count": 26,
   "metadata": {},
   "outputs": [],
   "source": [
    "import pandas as pd\n",
    "df = pd.read_excel('https://query.data.world/s/5qxp2ldwsel3ow2pq5mkvfas2rfaup')\n"
   ]
  },
  {
   "cell_type": "code",
   "execution_count": null,
   "metadata": {},
   "outputs": [],
   "source": []
  },
  {
   "cell_type": "markdown",
   "metadata": {},
   "source": [
    "#### For extra fun:\n",
    "[visualization challenges](http://www.storytellingwithdata.com/blog/2019/3/1/swdchallenge-visualize-this-data)\n",
    "\n",
    "[seaborn cheatsheet](https://s3.amazonaws.com/assets.datacamp.com/blog_assets/Python_Seaborn_Cheat_Sheet.pdf)"
   ]
  }
 ],
 "metadata": {
  "kernelspec": {
   "display_name": "Python 3",
   "language": "python",
   "name": "python3"
  },
  "language_info": {
   "codemirror_mode": {
    "name": "ipython",
    "version": 3
   },
   "file_extension": ".py",
   "mimetype": "text/x-python",
   "name": "python",
   "nbconvert_exporter": "python",
   "pygments_lexer": "ipython3",
   "version": "3.7.6"
  },
  "toc": {
   "base_numbering": 1,
   "nav_menu": {},
   "number_sections": true,
   "sideBar": true,
   "skip_h1_title": false,
   "title_cell": "Table of Contents",
   "title_sidebar": "Contents",
   "toc_cell": false,
   "toc_position": {},
   "toc_section_display": true,
   "toc_window_display": false
  }
 },
 "nbformat": 4,
 "nbformat_minor": 4
}
